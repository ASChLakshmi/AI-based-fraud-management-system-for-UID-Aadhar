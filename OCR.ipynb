{
 "cells": [
  {
   "cell_type": "code",
   "execution_count": 3,
   "id": "6d2cffb1-5147-47b0-b3e4-06f80c225ff0",
   "metadata": {},
   "outputs": [
    {
     "name": "stderr",
     "output_type": "stream",
     "text": [
      "\n",
      "[notice] A new release of pip is available: 24.0 -> 25.0.1\n",
      "[notice] To update, run: python.exe -m pip install --upgrade pip\n"
     ]
    },
    {
     "name": "stdout",
     "output_type": "stream",
     "text": [
      "Defaulting to user installation because normal site-packages is not writeable\n",
      "Requirement already satisfied: easyocr in c:\\users\\mohan\\appdata\\roaming\\python\\python312\\site-packages (1.7.2)\n",
      "Requirement already satisfied: torch in c:\\users\\mohan\\appdata\\roaming\\python\\python312\\site-packages (from easyocr) (2.5.1)\n",
      "Requirement already satisfied: torchvision>=0.5 in c:\\users\\mohan\\appdata\\roaming\\python\\python312\\site-packages (from easyocr) (0.20.1)\n",
      "Requirement already satisfied: opencv-python-headless in c:\\users\\mohan\\appdata\\roaming\\python\\python312\\site-packages (from easyocr) (4.11.0.86)\n",
      "Requirement already satisfied: scipy in c:\\users\\mohan\\appdata\\roaming\\python\\python312\\site-packages (from easyocr) (1.14.1)\n",
      "Requirement already satisfied: numpy in c:\\users\\mohan\\appdata\\roaming\\python\\python312\\site-packages (from easyocr) (2.0.2)\n",
      "Requirement already satisfied: Pillow in c:\\users\\mohan\\appdata\\roaming\\python\\python312\\site-packages (from easyocr) (11.0.0)\n",
      "Requirement already satisfied: scikit-image in c:\\users\\mohan\\appdata\\roaming\\python\\python312\\site-packages (from easyocr) (0.25.0)\n",
      "Requirement already satisfied: python-bidi in c:\\users\\mohan\\appdata\\roaming\\python\\python312\\site-packages (from easyocr) (0.6.3)\n",
      "Requirement already satisfied: PyYAML in c:\\users\\mohan\\appdata\\roaming\\python\\python312\\site-packages (from easyocr) (6.0.2)\n",
      "Requirement already satisfied: Shapely in c:\\users\\mohan\\appdata\\roaming\\python\\python312\\site-packages (from easyocr) (2.0.6)\n",
      "Requirement already satisfied: pyclipper in c:\\users\\mohan\\appdata\\roaming\\python\\python312\\site-packages (from easyocr) (1.3.0.post6)\n",
      "Requirement already satisfied: ninja in c:\\users\\mohan\\appdata\\roaming\\python\\python312\\site-packages (from easyocr) (1.11.1.3)\n",
      "Requirement already satisfied: filelock in c:\\users\\mohan\\appdata\\roaming\\python\\python312\\site-packages (from torch->easyocr) (3.16.1)\n",
      "Requirement already satisfied: typing-extensions>=4.8.0 in c:\\users\\mohan\\appdata\\roaming\\python\\python312\\site-packages (from torch->easyocr) (4.12.2)\n",
      "Requirement already satisfied: networkx in c:\\users\\mohan\\appdata\\roaming\\python\\python312\\site-packages (from torch->easyocr) (3.4.2)\n",
      "Requirement already satisfied: jinja2 in c:\\users\\mohan\\appdata\\roaming\\python\\python312\\site-packages (from torch->easyocr) (3.1.5)\n",
      "Requirement already satisfied: fsspec in c:\\users\\mohan\\appdata\\roaming\\python\\python312\\site-packages (from torch->easyocr) (2024.12.0)\n",
      "Requirement already satisfied: setuptools in c:\\users\\mohan\\appdata\\roaming\\python\\python312\\site-packages (from torch->easyocr) (75.8.0)\n",
      "Requirement already satisfied: sympy==1.13.1 in c:\\users\\mohan\\appdata\\roaming\\python\\python312\\site-packages (from torch->easyocr) (1.13.1)\n",
      "Requirement already satisfied: mpmath<1.4,>=1.1.0 in c:\\users\\mohan\\appdata\\roaming\\python\\python312\\site-packages (from sympy==1.13.1->torch->easyocr) (1.3.0)\n",
      "Requirement already satisfied: imageio!=2.35.0,>=2.33 in c:\\users\\mohan\\appdata\\roaming\\python\\python312\\site-packages (from scikit-image->easyocr) (2.36.1)\n",
      "Requirement already satisfied: tifffile>=2022.8.12 in c:\\users\\mohan\\appdata\\roaming\\python\\python312\\site-packages (from scikit-image->easyocr) (2025.1.10)\n",
      "Requirement already satisfied: packaging>=21 in c:\\users\\mohan\\appdata\\roaming\\python\\python312\\site-packages (from scikit-image->easyocr) (24.2)\n",
      "Requirement already satisfied: lazy-loader>=0.4 in c:\\users\\mohan\\appdata\\roaming\\python\\python312\\site-packages (from scikit-image->easyocr) (0.4)\n",
      "Requirement already satisfied: MarkupSafe>=2.0 in c:\\users\\mohan\\appdata\\roaming\\python\\python312\\site-packages (from jinja2->torch->easyocr) (3.0.2)\n"
     ]
    }
   ],
   "source": [
    "!pip install easyocr"
   ]
  },
  {
   "cell_type": "code",
   "execution_count": 4,
   "id": "e88b29b1-2155-4200-87ed-d3c6fa1555c5",
   "metadata": {},
   "outputs": [],
   "source": [
    "from ultralytics import YOLO\n",
    "import easyocr\n",
    "import cv2"
   ]
  },
  {
   "cell_type": "code",
   "execution_count": 17,
   "id": "1d43b33b-d40b-47ef-8bd9-af8a0a42484c",
   "metadata": {},
   "outputs": [],
   "source": [
    "model = YOLO(r\"runs\\detect\\train20/weights/best.pt\")"
   ]
  },
  {
   "cell_type": "code",
   "execution_count": 18,
   "id": "ffad50eb-d7ed-45f5-a09d-f2d5ddd27dd4",
   "metadata": {},
   "outputs": [
    {
     "name": "stderr",
     "output_type": "stream",
     "text": [
      "Neither CUDA nor MPS are available - defaulting to CPU. Note: This module is much faster with a GPU.\n"
     ]
    }
   ],
   "source": [
    "reader = easyocr.Reader(['en'])"
   ]
  },
  {
   "cell_type": "code",
   "execution_count": 23,
   "id": "9b9ca28d-899d-4813-8c19-f619b87577f0",
   "metadata": {},
   "outputs": [
    {
     "name": "stdout",
     "output_type": "stream",
     "text": [
      "\n",
      "image 1/1 C:\\Users\\mohan\\Desktop\\INFOSYS TRAINING\\CLASSIFICATION MODEL\\AADHAAAR.jpg: 640x288 1 name, 1 uid, 1 address, 81.8ms\n",
      "Speed: 1.6ms preprocess, 81.8ms inference, 0.7ms postprocess per image at shape (1, 3, 640, 288)\n"
     ]
    }
   ],
   "source": [
    "image_path =  r\"C:\\Users\\mohan\\Desktop\\INFOSYS TRAINING\\CLASSIFICATION MODEL\\AADHAAAR.jpg\"\n",
    "results = model(image_path)"
   ]
  },
  {
   "cell_type": "code",
   "execution_count": 24,
   "id": "876f3b78-37d1-4d8e-8f36-84a56dc652ff",
   "metadata": {},
   "outputs": [],
   "source": [
    "image = cv2.imread(image_path)\n",
    "extracted_data = {}"
   ]
  },
  {
   "cell_type": "code",
   "execution_count": 25,
   "id": "4e9a6326-b065-4e3d-85fe-df94aa41e684",
   "metadata": {},
   "outputs": [],
   "source": [
    "for result in results[0].boxes.data.tolist():  # results[0].boxes.data contains bounding box details\n",
    "    x1, y1, x2, y2, confidence, class_id = map(int, result[:6])\n",
    "    field_class = model.names[class_id]  # Get class name (e.g., 'Name', 'UID', 'Address')\n",
    "\n",
    "    # Crop the detected region\n",
    "    cropped_roi = image[y1:y2, x1:x2]\n",
    "\n",
    "    # Convert cropped ROI to grayscale for OCR\n",
    "    gray_roi = cv2.cvtColor(cropped_roi, cv2.COLOR_BGR2GRAY)\n",
    "\n",
    "    # Use EasyOCR to extract text\n",
    "    text = reader.readtext(gray_roi, detail=0)  # detail=0 returns only the text\n",
    "\n",
    "    # Save the text to the extracted_data dictionary\n",
    "    extracted_data[field_class] = ' '.join(text)"
   ]
  },
  {
   "cell_type": "code",
   "execution_count": 26,
   "id": "acd4435b-be00-454f-8857-330750f1cbb5",
   "metadata": {},
   "outputs": [
    {
     "name": "stdout",
     "output_type": "stream",
     "text": [
      "Extracted Data: {'uid': '9550 6133 2922', 'name': 'Aryaman Suhas Sonawane', 'address': 'SIO Suhasrao Sonavane YASH RESIDENCY ROW HOUSE NO. PASHAN SUS ROAD PASHAN NEAR ANUSHREE HOTEL Pashan Pune Maharashtra 411021'}\n"
     ]
    }
   ],
   "source": [
    "print(\"Extracted Data:\", extracted_data)"
   ]
  },
  {
   "cell_type": "code",
   "execution_count": null,
   "id": "b1bf0783-8446-4485-a2f0-8ac9fd87a6ce",
   "metadata": {},
   "outputs": [],
   "source": []
  }
 ],
 "metadata": {
  "kernelspec": {
   "display_name": "Python 3 (ipykernel)",
   "language": "python",
   "name": "python3"
  },
  "language_info": {
   "codemirror_mode": {
    "name": "ipython",
    "version": 3
   },
   "file_extension": ".py",
   "mimetype": "text/x-python",
   "name": "python",
   "nbconvert_exporter": "python",
   "pygments_lexer": "ipython3",
   "version": "3.12.3"
  }
 },
 "nbformat": 4,
 "nbformat_minor": 5
}
